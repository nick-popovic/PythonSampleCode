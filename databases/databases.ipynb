{
 "cells": [
  {
   "cell_type": "code",
   "execution_count": 1,
   "metadata": {},
   "outputs": [],
   "source": [
    "import sqlite3"
   ]
  },
  {
   "cell_type": "code",
   "execution_count": 3,
   "metadata": {},
   "outputs": [],
   "source": [
    "# Step 1: Connect to SQLite Database (or create it)\n",
    "conn = sqlite3.connect('example.db')  # 'example.db' is the database file"
   ]
  },
  {
   "cell_type": "code",
   "execution_count": 4,
   "metadata": {},
   "outputs": [],
   "source": [
    "# Step 2: Create a cursor object using the connection\n",
    "cursor = conn.cursor()"
   ]
  },
  {
   "cell_type": "code",
   "execution_count": 6,
   "metadata": {},
   "outputs": [
    {
     "data": {
      "text/plain": [
       "<sqlite3.Cursor at 0x172a4179240>"
      ]
     },
     "execution_count": 6,
     "metadata": {},
     "output_type": "execute_result"
    }
   ],
   "source": [
    "# Step 3: Create a table if it doesn't exist\n",
    "'''\n",
    "table looks like this ...\n",
    "\n",
    "---------------------------------------------------------------------------\n",
    "|id (primary key integer) | name (text) | age (integer) | grade (integer) | \n",
    "---------------------------------------------------------------------------\n",
    "|                                                                         |\n",
    "|                                                                         |\n",
    "|_________________________________________________________________________|\n",
    "'''\n",
    "cursor.execute('''CREATE TABLE IF NOT EXISTS students\n",
    "                  (id INTEGER PRIMARY KEY, \n",
    "                   name TEXT NOT NULL, \n",
    "                   age INTEGER NOT NULL, \n",
    "                   grade TEXT)''')"
   ]
  },
  {
   "cell_type": "code",
   "execution_count": 7,
   "metadata": {},
   "outputs": [
    {
     "data": {
      "text/plain": [
       "<sqlite3.Cursor at 0x172a4179240>"
      ]
     },
     "execution_count": 7,
     "metadata": {},
     "output_type": "execute_result"
    }
   ],
   "source": [
    "# Step 4: Insert data into the table\n",
    "cursor.execute(\"INSERT INTO students (name, age, grade) VALUES ('John Doe', 20, 'A')\")\n",
    "cursor.execute(\"INSERT INTO students (name, age, grade) VALUES ('Jane Smith', 22, 'B')\")\n",
    "cursor.execute(\"INSERT INTO students (name, age, grade) VALUES ('Mike Johnson', 21, 'C')\")\n"
   ]
  },
  {
   "cell_type": "code",
   "execution_count": 9,
   "metadata": {},
   "outputs": [],
   "source": [
    "# Step 5: Commit the changes to the database\n",
    "conn.commit()"
   ]
  },
  {
   "cell_type": "code",
   "execution_count": 10,
   "metadata": {},
   "outputs": [
    {
     "data": {
      "text/plain": [
       "<sqlite3.Cursor at 0x172a4179240>"
      ]
     },
     "execution_count": 10,
     "metadata": {},
     "output_type": "execute_result"
    }
   ],
   "source": [
    "# Step 6: Query the data from the table\n",
    "cursor.execute(\"SELECT * FROM students\")"
   ]
  },
  {
   "cell_type": "code",
   "execution_count": 11,
   "metadata": {},
   "outputs": [],
   "source": [
    "# Step 7: Fetch all rows from the query result\n",
    "rows = cursor.fetchall()"
   ]
  },
  {
   "cell_type": "code",
   "execution_count": 15,
   "metadata": {},
   "outputs": [
    {
     "name": "stdout",
     "output_type": "stream",
     "text": [
      "Student Data:\n",
      "ID: 1, Name: John Doe, Age: 20, Grade: A\n",
      "ID: 2, Name: Jane Smith, Age: 22, Grade: B\n",
      "ID: 3, Name: Mike Johnson, Age: 21, Grade: C\n"
     ]
    }
   ],
   "source": [
    "# Step 8: Display the data\n",
    "print(\"Student Data:\")\n",
    "for row in rows:\n",
    "    # alternate method for printing variables - string interpolation like in C ...\n",
    "    # a little bit easier on the eyes :)\n",
    "    print(f\"ID: {row[0]}, Name: {row[1]}, Age: {row[2]}, Grade: {row[3]}\")"
   ]
  },
  {
   "cell_type": "code",
   "execution_count": 13,
   "metadata": {},
   "outputs": [],
   "source": [
    "# Step 9: Close the connection\n",
    "conn.close()"
   ]
  }
 ],
 "metadata": {
  "kernelspec": {
   "display_name": "Python 3",
   "language": "python",
   "name": "python3"
  },
  "language_info": {
   "codemirror_mode": {
    "name": "ipython",
    "version": 3
   },
   "file_extension": ".py",
   "mimetype": "text/x-python",
   "name": "python",
   "nbconvert_exporter": "python",
   "pygments_lexer": "ipython3",
   "version": "3.10.11"
  }
 },
 "nbformat": 4,
 "nbformat_minor": 2
}
