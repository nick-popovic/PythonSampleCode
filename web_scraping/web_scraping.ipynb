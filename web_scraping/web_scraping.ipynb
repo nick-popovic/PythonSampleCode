{
 "cells": [
  {
   "cell_type": "code",
   "execution_count": 1,
   "metadata": {},
   "outputs": [],
   "source": [
    "import requests\n",
    "from bs4 import BeautifulSoup\n",
    "\n",
    "# Step 1: Specify the URL of the website you want to scrape\n",
    "url = 'https://example.com'  # Replace with the URL of the site you want to scrape"
   ]
  },
  {
   "cell_type": "code",
   "execution_count": 2,
   "metadata": {},
   "outputs": [
    {
     "name": "stdout",
     "output_type": "stream",
     "text": [
      "Successfully retrieved the website!\n"
     ]
    }
   ],
   "source": [
    "# Step 2: Send an HTTP GET request to the website\n",
    "response = requests.get(url)\n",
    "\n",
    "# Check if the request was successful (status code 200)\n",
    "if response.status_code == 200:\n",
    "    print(\"Successfully retrieved the website!\")\n",
    "else:\n",
    "    print(f\"Failed to retrieve the website. Status code: {response.status_code}\")\n",
    "    exit()"
   ]
  },
  {
   "cell_type": "code",
   "execution_count": 3,
   "metadata": {},
   "outputs": [],
   "source": [
    "# Step 3: Parse the HTML content using BeautifulSoup\n",
    "soup = BeautifulSoup(response.text, 'html.parser')"
   ]
  },
  {
   "cell_type": "code",
   "execution_count": 4,
   "metadata": {},
   "outputs": [
    {
     "name": "stdout",
     "output_type": "stream",
     "text": [
      "Extracted H1 tag text: Example Domain\n"
     ]
    }
   ],
   "source": [
    "# Step 4: Extract the data you want\n",
    "# For example, extracting the <h1> tag from the page\n",
    "h1_tag = soup.find('h1')  # This finds the first <h1> tag on the page\n",
    "\n",
    "if h1_tag:\n",
    "    print(\"Extracted H1 tag text:\", h1_tag.text)\n",
    "else:\n",
    "    print(\"No H1 tag found on the page.\")"
   ]
  },
  {
   "cell_type": "code",
   "execution_count": 5,
   "metadata": {},
   "outputs": [
    {
     "name": "stdout",
     "output_type": "stream",
     "text": [
      "\n",
      "Extracted Paragraphs:\n",
      "This domain is for use in illustrative examples in documents. You may use this\n",
      "    domain in literature without prior coordination or asking for permission.\n",
      "More information...\n"
     ]
    }
   ],
   "source": [
    "# Step 5: (Optional) Extract multiple elements, like all <p> tags\n",
    "paragraphs = soup.find_all('p')  # This finds all <p> tags on the page\n",
    "print(\"\\nExtracted Paragraphs:\")\n",
    "for p in paragraphs:\n",
    "    print(p.text)\n",
    "\n",
    "# Step 6: Handle any further processing or saving the data\n",
    "# For example, you could write the data to a file"
   ]
  }
 ],
 "metadata": {
  "kernelspec": {
   "display_name": "Python 3",
   "language": "python",
   "name": "python3"
  },
  "language_info": {
   "codemirror_mode": {
    "name": "ipython",
    "version": 3
   },
   "file_extension": ".py",
   "mimetype": "text/x-python",
   "name": "python",
   "nbconvert_exporter": "python",
   "pygments_lexer": "ipython3",
   "version": "3.10.6"
  }
 },
 "nbformat": 4,
 "nbformat_minor": 2
}
